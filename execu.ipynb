{
 "cells": [
  {
   "cell_type": "code",
   "execution_count": 4,
   "metadata": {},
   "outputs": [],
   "source": [
    "import pandas as pd\n",
    "import matplotlib.pyplot as plt"
   ]
  },
  {
   "cell_type": "markdown",
   "metadata": {},
   "source": [
    "# Se angelo fosse hétero"
   ]
  },
  {
   "cell_type": "code",
   "execution_count": null,
   "metadata": {},
   "outputs": [],
   "source": [
    "#Definir base_atk como atributo\n",
    "df_baseatk = pd.read_csv('./data/genshin_weapons_v6.csv')\n",
    "print(df_baseatk[\"base_atk\"].count())\n",
    "print(df_baseatk[\"base_atk\"].mean())\n",
    "print(df_baseatk[\"base_atk\"].value_counts())"
   ]
  },
  {
   "cell_type": "code",
   "execution_count": 7,
   "metadata": {},
   "outputs": [],
   "source": [
    "plt.figure(figsize=(10, 6))  # Define o tamanho da figura\n",
    "plt.hist(df_baseatk[\"base_atk\"].dropna(), bins=20, color='skyblue', edgecolor='black')  # Histograma\n",
    "plt.title('Distribuição do Base ATK')  # Título\n",
    "plt.xlabel('Base ATK')  # Rótulo do eixo X\n",
    "plt.ylabel('Frequência')  # Rótulo do eixo Y\n",
    "plt.grid(True)\n",
    "plt.show()"
   ]
  },
  {
   "cell_type": "markdown",
   "metadata": {},
   "source": [
    "\n",
    "## ANGELO FALA SOBRE O NEGOCIO Do critAr\n",
    "\n",
    "Armas com baixo valor de substatus apresentam um base_atk mais alto"
   ]
  },
  {
   "cell_type": "code",
   "execution_count": null,
   "metadata": {},
   "outputs": [],
   "source": []
  }
 ],
 "metadata": {
  "kernelspec": {
   "display_name": "Python 3",
   "language": "python",
   "name": "python3"
  },
  "language_info": {
   "codemirror_mode": {
    "name": "ipython",
    "version": 3
   },
   "file_extension": ".py",
   "mimetype": "text/x-python",
   "name": "python",
   "nbconvert_exporter": "python",
   "pygments_lexer": "ipython3",
   "version": "3.13.1"
  }
 },
 "nbformat": 4,
 "nbformat_minor": 2
}
